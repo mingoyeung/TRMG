{
 "cells": [
  {
   "cell_type": "code",
   "id": "0d0061ee-662b-400a-9854-cccfc4a8e35d",
   "metadata": {
    "ExecuteTime": {
     "end_time": "2025-07-27T08:14:55.706713Z",
     "start_time": "2025-07-27T08:14:54.062968Z"
    }
   },
   "source": [
    "import pandas as pd\n",
    "import numpy as np\n",
    "import CRPS.CRPS as pscore\n",
    "from KDEpy import FFTKDE\n",
    "from KDEpy.bw_selection import silvermans_rule, improved_sheather_jones\n",
    "\n",
    "from sklearn.metrics import mean_absolute_error\n",
    "from sklearn.metrics import mean_squared_error\n",
    "\n",
    "import random\n",
    "random.seed(42)\n",
    "np.random.seed(42)"
   ],
   "outputs": [],
   "execution_count": 1
  },
  {
   "cell_type": "code",
   "id": "35252a62-7af4-4a75-9043-0d63e2515ed5",
   "metadata": {
    "ExecuteTime": {
     "end_time": "2025-07-27T08:14:56.811173Z",
     "start_time": "2025-07-27T08:14:56.290788Z"
    }
   },
   "source": [
    "actual1=pd.read_excel('C:/Users/ym_ya/Desktop/windpower/Simulation code and data/single_model/actual.xlsx')\n",
    "#pred=pd.read_excel('C:/Users/ym_ya/Desktop/windpower/Simulation code and data/single_model/qrnnpred.xlsx')\n",
    "#pred=pd.read_excel('C:/Users/ym_ya/Desktop/windpower/Simulation code and data/single_model/mcqrnnpred.xlsx')\n",
    "#pred=pd.read_excel('C:/Users/ym_ya/Desktop/windpower/Simulation code and data/single_model/qrfpred.xlsx')\n",
    "#pred=pd.read_excel('C:/Users/ym_ya/Desktop/windpower/Simulation code and data/single_model/qrlassopred.xlsx')\n",
    "#pred=pd.read_excel('C:/Users/ym_ya/Desktop/windpower/Simulation code and data/TVFEMD_SE_MCQRNNG(TSMG)/tvfemd_se_mcqrnng.xlsx')\n",
    "#pred=pd.read_excel('C:/Users/ym_ya/Desktop/windpower/Simulation code and data/ermg/EMD_R2CMSE_MCQRNN_ensemble_result.xlsx')\n",
    "#pred=pd.read_excel('C:/Users/ym_ya/Desktop/windpower/Simulation code and data/tvfemd_R2CMSE/TVFEMD_R2CMSE_QRNN2_ensemble_result.xlsx')\n",
    "#pred=pd.read_excel('C:/Users/ym_ya/Desktop/windpower/Simulation code and data/tvfemd_R2CMSE/TVFEMD_R2CMSE_MCQRNN_ensemble_result.xlsx')\n",
    "#pred=pd.read_excel('C:/Users/ym_ya/Desktop/windpower/Simulation code and data/5.3 Ablation analysis/tfmg/tfmg.xlsx')\n",
    "pred=pd.read_excel('/Users/ym_ya/Desktop/windpower/Simulation code and data/5.3 Ablation analysis/trg1gresults.xlsx')"
   ],
   "outputs": [],
   "execution_count": 2
  },
  {
   "cell_type": "code",
   "id": "49e61324-de90-489c-868a-a74d0a668cfc",
   "metadata": {
    "ExecuteTime": {
     "end_time": "2025-07-27T08:14:59.428014Z",
     "start_time": "2025-07-27T08:14:59.419041Z"
    }
   },
   "source": [
    "actual1=np.array(actual1.values)\n",
    "pred1=np.array(pred.values)"
   ],
   "outputs": [],
   "execution_count": 3
  },
  {
   "metadata": {
    "ExecuteTime": {
     "end_time": "2025-07-27T08:15:02.886571Z",
     "start_time": "2025-07-27T08:15:02.874405Z"
    }
   },
   "cell_type": "code",
   "source": [
    "from math import sqrt\n",
    "def calculate_metrics_with_ci(actual, pred1, n_iterations=1000, alpha=0.05):\n",
    "\n",
    "    n = len(actual)\n",
    "    metrics = {\n",
    "        'RMSE': [],\n",
    "        'MAE': [],\n",
    "        'MAPE': [],\n",
    "    }\n",
    "\n",
    "    for _ in range(n_iterations):\n",
    "\n",
    "        indices = np.random.choice(n, n, replace=True)\n",
    "        actual_resampled = actual[indices]\n",
    "        pred1_resampled = pred1[indices]\n",
    "\n",
    "        rmse = sqrt(mean_squared_error(actual_resampled , pred1_resampled))\n",
    "        metrics['RMSE'].append(rmse)\n",
    "\n",
    "        mae = mean_absolute_error(actual_resampled , pred1_resampled)\n",
    "        metrics['MAE'].append(mae)\n",
    "\n",
    "        mape = np.mean(np.abs((actual_resampled - pred1_resampled) / actual_resampled)) * 100\n",
    "        metrics['MAPE'].append(mape)\n",
    "\n",
    "    confidence_intervals = {}\n",
    "    for metric, values in metrics.items():\n",
    "        valid_values = [v for v in values if not np.isnan(v)]\n",
    "        if valid_values:\n",
    "            sorted_values = np.sort(valid_values)\n",
    "            lower_idx = int(alpha/2 * len(sorted_values))\n",
    "            upper_idx = int((1 - alpha/2) * len(sorted_values))\n",
    "            confidence_intervals[metric] = (sorted_values[lower_idx], sorted_values[upper_idx])\n",
    "        else:\n",
    "            confidence_intervals[metric] = (np.nan, np.nan)\n",
    "\n",
    "    point_estimates = {\n",
    "        'RMSE': sqrt(mean_squared_error(actual, pred1)),\n",
    "        'MAE': mean_absolute_error(actual, pred1),\n",
    "        'MAPE': np.mean(np.abs((actual - pred1) / actual))* 100,\n",
    "    }\n",
    "\n",
    "    return point_estimates, confidence_intervals"
   ],
   "id": "e10db86216d3f2e4",
   "outputs": [],
   "execution_count": 4
  },
  {
   "metadata": {
    "ExecuteTime": {
     "end_time": "2025-07-27T08:15:05.000788Z",
     "start_time": "2025-07-27T08:15:04.444463Z"
    }
   },
   "cell_type": "code",
   "source": [
    "point_estimates, confidence_intervals = calculate_metrics_with_ci(actual1.reshape(-1), pred1[:,9].reshape(-1))\n",
    "print(\"95% CI point prediction results:\")\n",
    "for metric in ['RMSE', 'MAE', 'MAPE']:\n",
    "    mean_val = point_estimates[metric]\n",
    "    lower, upper = confidence_intervals[metric]\n",
    "    print(f\"{metric}: {mean_val:.3f} [{lower:.3f}, {upper:.3f}]\")"
   ],
   "id": "9880a81b83f14300",
   "outputs": [
    {
     "name": "stdout",
     "output_type": "stream",
     "text": [
      "95% CI point prediction results:\n",
      "RMSE: 3.134 [2.824, 3.468]\n",
      "MAE: 2.502 [2.286, 2.731]\n",
      "MAPE: 0.456 [0.380, 0.534]\n"
     ]
    }
   ],
   "execution_count": 5
  },
  {
   "metadata": {},
   "cell_type": "code",
   "source": [
    "def calculate_interval_metrics_with_ci(actual, pred, n_iterations=1000, alpha=0.05):\n",
    "\n",
    "    n = len(actual)\n",
    "    quantiles = np.arange(0.05, 1.0, 0.05)\n",
    "    metrics = {\n",
    "        'Pinball Loss': [],\n",
    "        'PICP90': [],\n",
    "        'PINAW90': [],\n",
    "    }\n",
    "    pinball_per_sample = np.zeros(n)\n",
    "    pl_ci = []\n",
    "    for j, q in enumerate(quantiles):\n",
    "        for i in range(n):\n",
    "            if actual[i] < pred[i, j]:\n",
    "                loss = (1 - q) * (pred[i, j] - actual[i])\n",
    "            else:\n",
    "                loss = q * (actual[i] - pred[i, j])\n",
    "            pinball_per_sample[i] += loss\n",
    "\n",
    "    pinball_per_sample /= len(quantiles)\n",
    "    pl_mean = np.mean(pinball_per_sample)\n",
    "\n",
    "    picp90_per_sample = np.zeros(n)\n",
    "    pinaw90_per_sample = np.zeros(n)\n",
    "    data_range = np.max(actual) - np.min(actual)\n",
    "\n",
    "    for i in range(n):\n",
    "        # PICP90 (1 if covered, 0 otherwise)\n",
    "        picp90_per_sample[i] = 1 if (actual[i] >= pred[i, 0] and actual[i] <= pred[i, 18]) else 0\n",
    "\n",
    "        # PINAW90\n",
    "        pinaw90_per_sample[i] = (pred[i, 18] - pred[i, 0]) / data_range\n",
    "\n",
    "    for _ in range(n_iterations):\n",
    "        # 有放回抽样\n",
    "        indices = np.random.choice(n, n, replace=True)\n",
    "\n",
    "        # 计算所有指标\n",
    "        metrics['Pinball Loss'].append(np.mean(pinball_per_sample[indices]))\n",
    "        metrics['PICP90'].append(np.mean(picp90_per_sample[indices]))\n",
    "        metrics['PINAW90'].append(np.mean(pinaw90_per_sample[indices]))\n",
    "    # 计算置信区间\n",
    "    confidence_intervals = {}\n",
    "    for metric, values in metrics.items():\n",
    "        sorted_values = np.sort(values)\n",
    "        lower_idx = int(alpha/2 * len(sorted_values))\n",
    "        upper_idx = int((1 - alpha/2) * len(sorted_values))\n",
    "        confidence_intervals[metric] = (sorted_values[lower_idx], sorted_values[upper_idx])\n",
    "\n",
    "    # 计算点估计值\n",
    "    point_estimates = {\n",
    "        'Pinball Loss': pl_mean,\n",
    "        'PICP90': np.mean(picp90_per_sample),\n",
    "        'PINAW90': np.mean(pinaw90_per_sample),\n",
    "    }\n",
    "\n",
    "    return point_estimates, confidence_intervals"
   ],
   "id": "c5ee6df808960ac",
   "outputs": [],
   "execution_count": null
  },
  {
   "metadata": {},
   "cell_type": "code",
   "source": [
    "point_estimates2, confidence_intervals2 = calculate_interval_metrics_with_ci(actual1,pred1)\n",
    "print(\"95% Interval prediction results:\")\n",
    "\n",
    "for metric in point_estimates2:\n",
    "    mean_val = point_estimates2[metric]\n",
    "    lower, upper = confidence_intervals2[metric]\n",
    "    print(f\"{metric}: {mean_val:.3f} [{lower:.3f}, {upper:.3f}]\")"
   ],
   "id": "b79eeb1dd3015413",
   "outputs": [],
   "execution_count": null
  },
  {
   "metadata": {},
   "cell_type": "code",
   "source": [
    "def calculate_S(alpha, lower, upper, true):\n",
    "    m = len(true)\n",
    "    S = 0\n",
    "\n",
    "    lower = np.asarray(lower).flatten()\n",
    "    upper = np.asarray(upper).flatten()\n",
    "    true = np.asarray(true).flatten()\n",
    "\n",
    "    for i in range(m):\n",
    "        di = upper[i] - lower[i]\n",
    "\n",
    "        if true[i] < lower[i]:\n",
    "            Si = -2 * alpha * di - 4 * (lower[i] - true[i])\n",
    "        elif true[i] >= lower[i] and true[i] <= upper[i]:\n",
    "            Si = -2 * alpha * di\n",
    "        else:\n",
    "            Si = -2 * alpha * di - 4 * (true[i] - upper[i])\n",
    "\n",
    "        S += Si\n",
    "\n",
    "    S /= m\n",
    "    return S\n",
    "\n",
    "Lower_sequence = pred1[:,0].flatten()\n",
    "Upper_sequence = pred1[:,18].flatten()\n",
    "actual1_flat = actual1.flatten()\n",
    "\n",
    "alpha = 0.1\n",
    "AIS = calculate_S(alpha, Lower_sequence, Upper_sequence,actual1_flat)\n",
    "\n",
    "\n",
    "alpha1 = 0.05\n",
    "\n",
    "bootstrap_scores = []\n",
    "n = len(actual1)\n",
    "\n",
    "# Bootstrap重采样\n",
    "np.random.seed(42)\n",
    "for _ in range(1000):\n",
    "\n",
    "    indices = np.random.choice(n, n, replace=True)\n",
    "\n",
    "    Li_sample = Lower_sequence[indices]\n",
    "    Ui_sample = Upper_sequence[indices]\n",
    "    true_sample = actual1[indices]\n",
    "\n",
    "    score_b = calculate_S(alpha, Li_sample, Ui_sample, true_sample)\n",
    "    bootstrap_scores.append(score_b)\n",
    "\n",
    "lower_bound = np.percentile(bootstrap_scores, 2.5)\n",
    "upper_bound = np.percentile(bootstrap_scores, 97.5)\n",
    "\n",
    "print(f\"Original SCORE: {AIS}\")\n",
    "print(f\"95% Confidence Interval: [{lower_bound:.3f}, {upper_bound:.3f}]\")"
   ],
   "id": "fa1192a9136d8a5a",
   "outputs": [],
   "execution_count": null
  },
  {
   "metadata": {},
   "cell_type": "code",
   "source": [
    "actual1n=np.squeeze(actual1)\n",
    "print(actual1n.shape)"
   ],
   "id": "2c244054-1962-43a9-938a-0cb5c4e65417",
   "outputs": [],
   "execution_count": null
  },
  {
   "metadata": {},
   "cell_type": "code",
   "source": [
    "def calculate_crps_with_ci(actual, pred, n_bootstrap=1000, conf_level=0.95, sample_size=100):\n",
    "\n",
    "    n = len(actual)\n",
    "    crps_values = []\n",
    "    random.seed(42)\n",
    "    np.random.seed(42)\n",
    "\n",
    "    std = [silvermans_rule(pred[i, :].reshape(-1, 1)) for i in range(n)]\n",
    "\n",
    "    for i in range(n):\n",
    "\n",
    "        resampled = np.random.choice(pred[i, :], size=sample_size, replace=True)\n",
    "        resampled += np.random.randn(sample_size) * std[i]\n",
    "\n",
    "        crps_val = pscore(resampled, actual[i]).compute()[0]\n",
    "        crps_values.append(crps_val)\n",
    "\n",
    "    crps_mean = np.mean(crps_values)\n",
    "    np.random.seed(0)\n",
    "    crps_boot = []\n",
    "\n",
    "    for _ in range(n_bootstrap):\n",
    "\n",
    "        indices = np.random.choice(n, n, replace=True)\n",
    "\n",
    "        crps_boot.append(np.mean(np.array(crps_values)[indices]))\n",
    "\n",
    "    crps_sorted = np.sort(crps_boot)\n",
    "    alpha_ci = 1 - conf_level\n",
    "    lower_idx = int(alpha_ci/2 * n_bootstrap)\n",
    "    upper_idx = int((1 - alpha_ci/2) * n_bootstrap)\n",
    "\n",
    "    return {\n",
    "        \"CRPS\": crps_mean,\n",
    "        \"CI\": (crps_sorted[lower_idx], crps_sorted[upper_idx]),\n",
    "        \"Bootstrap_values\": crps_boot\n",
    "    }\n",
    "\n",
    "result = calculate_crps_with_ci(actual1n, pred1)\n",
    "print(f\"CRPS: {result['CRPS']:.3f}\")\n",
    "print(f\"95% CI: [{result['CI'][0]:.3f}, {result['CI'][1]:.3f}]\")"
   ],
   "id": "f76aa07158d47159",
   "outputs": [],
   "execution_count": null
  },
  {
   "cell_type": "code",
   "id": "03f3718d-2851-4851-bc6c-36c16b8f54d4",
   "metadata": {
    "ExecuteTime": {
     "end_time": "2025-07-27T08:15:37.173991Z",
     "start_time": "2025-07-27T08:15:37.086286Z"
    }
   },
   "source": [
    "import gc\n",
    "gc.collect()"
   ],
   "outputs": [
    {
     "data": {
      "text/plain": [
       "0"
      ]
     },
     "execution_count": 7,
     "metadata": {},
     "output_type": "execute_result"
    }
   ],
   "execution_count": 7
  }
 ],
 "metadata": {
  "kernelspec": {
   "display_name": "Python 3 (ipykernel)",
   "language": "python",
   "name": "python3"
  },
  "language_info": {
   "codemirror_mode": {
    "name": "ipython",
    "version": 3
   },
   "file_extension": ".py",
   "mimetype": "text/x-python",
   "name": "python",
   "nbconvert_exporter": "python",
   "pygments_lexer": "ipython3",
   "version": "3.12.7"
  }
 },
 "nbformat": 4,
 "nbformat_minor": 5
}
